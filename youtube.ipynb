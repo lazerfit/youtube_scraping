{
 "cells": [
  {
   "cell_type": "code",
   "execution_count": 219,
   "metadata": {},
   "outputs": [],
   "source": [
    "import pandas as pd\n",
    "import numpy as np\n",
    "import selenium\n",
    "from helium import *\n",
    "from bs4 import BeautifulSoup as bsp\n",
    "import requests\n",
    "import time\n",
    "from tqdm import tqdm\n",
    "import math\n",
    "import re"
   ]
  },
  {
   "cell_type": "code",
   "execution_count": 168,
   "metadata": {},
   "outputs": [],
   "source": [
    "def extract_word(text):\n",
    "    hangul = re.compile('[^가-힣 a-zA-Z]') \n",
    "    result = hangul.sub('', text) \n",
    "    return result"
   ]
  },
  {
   "cell_type": "code",
   "execution_count": 220,
   "metadata": {},
   "outputs": [],
   "source": [
    "def youtube_crawl(url):\n",
    "    driver=start_chrome()\n",
    "    go_to(url)\n",
    "    time.sleep(10)\n",
    "    # press(SPACE)\n",
    "    \n",
    "    count=0\n",
    "    cnt=find_all(S('.count-text.style-scope.ytd-comments-header-renderer > .style-scope.yt-formatted-string'))[1].web_element.text\n",
    "    cnt=cnt.replace(',','')\n",
    "    cnt=int(cnt)\n",
    "    final=math.ceil((cnt/20)*1.5)\n",
    "    while count<final:\n",
    "        scroll_down(num_pixels=1000000)\n",
    "        time.sleep(0.5)\n",
    "        count+=1\n",
    "    time.sleep(2)\n",
    "    try:\n",
    "        wait_until(lambda: click(S('.more-button.style-scope.ytd-comment-renderer')),timeout_secs=2000, interval_secs=1)\n",
    "    except:\n",
    "        pass\n",
    "    time.sleep(2)\n",
    "\n",
    "    html_source = driver.page_source\n",
    "    soup = bsp(html_source, 'lxml')\n",
    "    comment=soup.select('yt-formatted-string#content-text')\n",
    "    youtube={}\n",
    "    youtube['comment']=[]\n",
    "    for i in range(len(comment)):\n",
    "        text=str(comment[i].text)\n",
    "        youtube['comment'].append(text)\n",
    "    title=find_all(S('#title > .style-scope.ytd-watch-metadata'))[-1].web_element.text\n",
    "    kill_browser()\n",
    "    youtube=pd.DataFrame.from_dict(youtube)\n",
    "    youtube['comment']=youtube['comment'].apply(lambda x: extract_word(x))\n",
    "    print(\"crawling_OK\")\n",
    "    return youtube.to_csv(f'./{title}.csv',index=False)"
   ]
  },
  {
   "cell_type": "code",
   "execution_count": 221,
   "metadata": {},
   "outputs": [
    {
     "name": "stdout",
     "output_type": "stream",
     "text": [
      "crawling_OK\n"
     ]
    }
   ],
   "source": [
    "youtube_crawl('https://www.youtube.com/watch?v=229AALYeH90')"
   ]
  },
  {
   "cell_type": "code",
   "execution_count": null,
   "metadata": {},
   "outputs": [],
   "source": []
  }
 ],
 "metadata": {
  "kernelspec": {
   "display_name": "Python 3.7.13 ('dl')",
   "language": "python",
   "name": "python3"
  },
  "language_info": {
   "codemirror_mode": {
    "name": "ipython",
    "version": 3
   },
   "file_extension": ".py",
   "mimetype": "text/x-python",
   "name": "python",
   "nbconvert_exporter": "python",
   "pygments_lexer": "ipython3",
   "version": "3.7.13"
  },
  "orig_nbformat": 4,
  "vscode": {
   "interpreter": {
    "hash": "7cfa2f62358811eae20e47a1e08313805a16ecd32b93bbaa4cb402f326664d27"
   }
  }
 },
 "nbformat": 4,
 "nbformat_minor": 2
}
